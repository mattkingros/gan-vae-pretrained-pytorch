{
 "cells": [
  {
   "cell_type": "code",
   "execution_count": 31,
   "metadata": {},
   "outputs": [
    {
     "name": "stdout",
     "output_type": "stream",
     "text": [
      "The autoreload extension is already loaded. To reload it, use:\n",
      "  %reload_ext autoreload\n"
     ]
    }
   ],
   "source": [
    "import os\n",
    "import torch\n",
    "import torchvision\n",
    "import torch.nn as nn\n",
    "from torchvision import transforms\n",
    "from torchvision.utils import save_image\n",
    "from torch.autograd import Variable\n",
    "import matplotlib.pyplot as plt\n",
    "import pylab\n",
    "import numpy as np\n",
    "%load_ext autoreload\n",
    "%autoreload 2"
   ]
  },
  {
   "cell_type": "code",
   "execution_count": 40,
   "metadata": {},
   "outputs": [],
   "source": [
    "num_gpu = 1 if torch.cuda.is_available() else 0\n",
    "num_gpu =0\n",
    "\n",
    "# load the models\n",
    "from dcgan import Discriminator, Generator, FeatureExtractor\n",
    "\n",
    "D = Discriminator(ngpu=0).eval()\n",
    "G = Generator(ngpu=0).eval()\n",
    "F = FeatureExtractor(ngpu=0).eval()\n",
    "\n",
    "# load weights\n",
    "D.load_state_dict(torch.load('weights/netD_epoch_99.pth',map_location=torch.device('cpu')))\n",
    "G.load_state_dict(torch.load('weights/netG_epoch_99.pth',map_location=torch.device('cpu')))\n",
    "F.load_state_dict(torch.load('weights/netD_epoch_99.pth',map_location=torch.device('cpu')),strict=False)\n",
    "\n",
    "if torch.cuda.is_available():\n",
    "    D = D.cuda()\n",
    "    G = G.cuda()"
   ]
  },
  {
   "cell_type": "markdown",
   "metadata": {},
   "source": [
    "# generate some images"
   ]
  },
  {
   "cell_type": "code",
   "execution_count": 33,
   "metadata": {},
   "outputs": [
    {
     "data": {
      "image/png": "[encoded data removed]",
      "text/plain": [
       "<Figure size 640x480 with 1 Axes>"
      ]
     },
     "metadata": {},
     "output_type": "display_data"
    }
   ],
   "source": [
    "batch_size = 1\n",
    "latent_size = 100\n",
    "\n",
    "fixed_noise = torch.randn(batch_size, latent_size, 1, 1)\n",
    "if torch.cuda.is_available():\n",
    "    fixed_noise = fixed_noise.cuda()\n",
    "fake_images = G(fixed_noise)\n",
    "\n",
    "fake_images_np = fake_images.cpu().detach().numpy()\n",
    "fake_images_np = fake_images_np.reshape(fake_images_np.shape[0], 28, 28)\n",
    "R, C = 1, 1\n",
    "for i in range(batch_size):\n",
    "    plt.subplot(R, C, i + 1)\n",
    "    plt.imshow(fake_images_np[i], cmap='gray')\n",
    "plt.show()"
   ]
  },
  {
   "cell_type": "markdown",
   "metadata": {},
   "source": [
    "# run discriminator"
   ]
  },
  {
   "cell_type": "code",
   "execution_count": 41,
   "metadata": {},
   "outputs": [
    {
     "name": "stdout",
     "output_type": "stream",
     "text": [
      "tensor([0.2461], grad_fn=<SqueezeBackward1>)\n"
     ]
    }
   ],
   "source": [
    "\n",
    "outputs = D(fake_images)\n",
    "print(outputs)"
   ]
  },
  {
   "cell_type": "code",
   "execution_count": 42,
   "metadata": {},
   "outputs": [],
   "source": [
    "outputs = F(fake_images)"
   ]
  },
  {
   "cell_type": "code",
   "execution_count": 43,
   "metadata": {},
   "outputs": [
    {
     "name": "stdout",
     "output_type": "stream",
     "text": [
      "tensor([[[[-0.1042,  0.4361, -0.2302],\n",
      "          [ 0.3295,  0.0284, -0.3813],\n",
      "          [ 0.0176, -0.3206,  0.3467]],\n",
      "\n",
      "         [[ 1.6662,  0.6895, -0.1268],\n",
      "          [-0.0026, -0.3201, -0.1419],\n",
      "          [-0.2722,  1.3106,  0.1335]],\n",
      "\n",
      "         [[ 0.4357,  1.7679, -0.1976],\n",
      "          [ 0.9376, -0.2207, -0.1614],\n",
      "          [ 0.2438,  1.7709, -0.0056]],\n",
      "\n",
      "         ...,\n",
      "\n",
      "         [[ 0.3837, -0.1382, -0.2260],\n",
      "          [-0.0529, -0.1955,  1.8047],\n",
      "          [-0.1445, -0.1438, -0.1695]],\n",
      "\n",
      "         [[-0.1862,  0.8932, -0.3409],\n",
      "          [ 1.2507, -0.3487,  0.8854],\n",
      "          [ 2.1849,  0.1658, -0.0535]],\n",
      "\n",
      "         [[-0.1882,  2.2738, -0.4792],\n",
      "          [-0.1617, -0.0391,  0.5042],\n",
      "          [ 0.1798,  0.0034, -0.1719]]]], grad_fn=<LeakyReluBackward1>)\n"
     ]
    }
   ],
   "source": [
    "print(outputs)"
   ]
  },
  {
   "cell_type": "code",
   "execution_count": 8,
   "metadata": {},
   "outputs": [],
   "source": [
    "output_np =outputs.cpu().detach().numpy()"
   ]
  },
  {
   "cell_type": "code",
   "execution_count": 9,
   "metadata": {},
   "outputs": [
    {
     "data": {
      "text/plain": [
       "array([[-0.08939418,  0.48842603, -0.00865233],\n",
       "       [ 0.8670456 , -0.02448369, -0.3338814 ],\n",
       "       [ 1.7483184 , -0.11495879, -0.19781207]], dtype=float32)"
      ]
     },
     "execution_count": 9,
     "metadata": {},
     "output_type": "execute_result"
    }
   ],
   "source": [
    "output_np[0,0]"
   ]
  },
  {
   "cell_type": "code",
   "execution_count": null,
   "metadata": {},
   "outputs": [],
   "source": []
  }
 ],
 "metadata": {
  "kernelspec": {
   "display_name": "Python 3",
   "language": "python",
   "name": "python3"
  },
  "language_info": {
   "codemirror_mode": {
    "name": "ipython",
    "version": 3
   },
   "file_extension": ".py",
   "mimetype": "text/x-python",
   "name": "python",
   "nbconvert_exporter": "python",
   "pygments_lexer": "ipython3",
   "version": "3.10.5"
  }
 },
 "nbformat": 4,
 "nbformat_minor": 2
}
