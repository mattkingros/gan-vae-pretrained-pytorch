{
 "cells": [
  {
   "cell_type": "code",
   "execution_count": 1,
   "metadata": {},
   "outputs": [
    {
     "name": "stdout",
     "output_type": "stream",
     "text": [
      "Detected IPython. Loading juliacall extension. See https://juliapy.github.io/PythonCall.jl/stable/compat/#IPython\n"
     ]
    },
    {
     "name": "stderr",
     "output_type": "stream",
     "text": [
      "    Updating git-repo `https://github.com/MPF-Optimization-Laboratory/KLLS.jl.git`\n",
      "   Resolving package versions...\n",
      "    Updating `C:\\Users\\mking\\.julia\\environments\\pyjuliapkg\\Project.toml`\n",
      "  [a1edf54d] ~ KLLS v1.0.0-DEV `https://github.com/MPF-Optimization-Laboratory/KLLS.jl.git#main` ⇒ v1.0.0-DEV `https://github.com/MPF-Optimization-Laboratory/KLLS.jl.git#main`\n",
      "    Updating `C:\\Users\\mking\\.julia\\environments\\pyjuliapkg\\Manifest.toml`\n",
      "  [a1edf54d] ~ KLLS v1.0.0-DEV `https://github.com/MPF-Optimization-Laboratory/KLLS.jl.git#main` ⇒ v1.0.0-DEV `https://github.com/MPF-Optimization-Laboratory/KLLS.jl.git#main`\n",
      "Precompiling project...\n",
      "  ✓ SciMLBase → SciMLBasePythonCallExt\n",
      "  ✓ DiffEqBase → DiffEqBaseChainRulesCoreExt\n",
      "  ✓ LinearSolve → LinearSolveEnzymeExt\n",
      "  ✓ SimpleNonlinearSolve → SimpleNonlinearSolveChainRulesCoreExt\n",
      "  ✓ NonlinearSolve\n",
      "  ✓ KLLS\n",
      "  6 dependencies successfully precompiled in 106 seconds. 194 already precompiled.\n"
     ]
    }
   ],
   "source": [
    "from juliacall import Main as jl\n",
    "jl.seval(\"\"\"\n",
    "         import Pkg\n",
    "         ENV[\"JULIA_SSL_CA_ROOTS_PATH\"]=\"\"\n",
    "         ENV[\"JULIA_PKG_USE_CLI_GIT\"]=true\n",
    "         Pkg.add(url=\\\"https://github.com/MPF-Optimization-Laboratory/KLLS.jl.git\\\")\n",
    "         \"\"\")"
   ]
  },
  {
   "cell_type": "code",
   "execution_count": 104,
   "metadata": {},
   "outputs": [
    {
     "name": "stdout",
     "output_type": "stream",
     "text": [
      "The autoreload extension is already loaded. To reload it, use:\n",
      "  %reload_ext autoreload\n"
     ]
    }
   ],
   "source": [
    "import os\n",
    "import torch\n",
    "import torchvision\n",
    "import torch.nn as nn\n",
    "from torchvision import transforms\n",
    "from torchvision.utils import save_image\n",
    "from torch.autograd import Variable\n",
    "import matplotlib.pyplot as plt\n",
    "import pylab\n",
    "import numpy as np\n",
    "\n",
    "# For MNIST data download\n",
    "from torch.utils.data import Dataset\n",
    "from torchvision import datasets\n",
    "from torchvision.transforms import ToTensor\n",
    "\n",
    "import mnist_vae.vae as vae\n",
    "plt.style.use('dark_background')\n",
    "def to_im(x):\n",
    "    return x.cpu().detach().numpy().reshape((28, 28))\n",
    "\n",
    "%load_ext autoreload\n",
    "%autoreload 2\n",
    "\n",
    "from pathlib import Path\n",
    "import os\n",
    "path = Path()\n",
    "data_dir = path\n",
    "\n",
    "test_root = os.path.join(data_dir, \"data\")"
   ]
  },
  {
   "cell_type": "markdown",
   "metadata": {},
   "source": [
    "# Importing above, no need to re-run"
   ]
  },
  {
   "cell_type": "code",
   "execution_count": 105,
   "metadata": {},
   "outputs": [],
   "source": [
    "jl.seval(\"\"\"\n",
    "         using KLLS\n",
    "         solve = KLLS.solve!\n",
    "         rescale = KLLS.scale!\n",
    "         maximize = KLLS.maximize!\n",
    "         regularize = KLLS.regularize!\n",
    "         dObj = KLLS.dObj!\n",
    "         dGrad = KLLS.dGrad!\n",
    "         \"\"\");"
   ]
  },
  {
   "cell_type": "code",
   "execution_count": 108,
   "metadata": {},
   "outputs": [
    {
     "data": {
      "text/plain": [
       "<All keys matched successfully>"
      ]
     },
     "execution_count": 108,
     "metadata": {},
     "output_type": "execute_result"
    }
   ],
   "source": [
    "\n",
    "net = vae.VAE()\n",
    "net.load_state_dict(torch.load('mnist_vae/weights/vae_epoch_25.pth'))\n"
   ]
  },
  {
   "cell_type": "code",
   "execution_count": 109,
   "metadata": {},
   "outputs": [],
   "source": [
    "def objective(q,g):\n",
    "    value = jl.dObj(kl,q)\n",
    "    gradient_value = jl.dGrad(kl,q,g)\n",
    "    return [value, gradient_value]\n",
    "\n",
    "def scalar_obj(q):\n",
    "    value = jl.dObj(kl,q)\n",
    "    return value\n"
   ]
  },
  {
   "cell_type": "code",
   "execution_count": 110,
   "metadata": {},
   "outputs": [],
   "source": [
    "#{ Dataset\n",
    "#test_data = datasets.MNIST(\n",
    "#    root=\"data\",\n",
    "##   download=True,\n",
    "#    transform=ToTensor()\n",
    "# )\n",
    "#dataloader = torch.utils.data.DataLoader(test_data, batch_size=1,\n",
    "#                                             shuffle=False)\n",
    "\n",
    "# commented out for now; but code for dcgan"
   ]
  },
  {
   "cell_type": "code",
   "execution_count": 112,
   "metadata": {},
   "outputs": [],
   "source": [
    "#test_img = next(iter(dataloader))\n",
    "\n",
    "#test_img_for_plot = test_img[0][0].detach().numpy()\n",
    "#plt.imshow(np.reshape(test_img_for_plot,[28,28]), cmap='gray');\n",
    "\n",
    "# as above"
   ]
  },
  {
   "cell_type": "code",
   "execution_count": 103,
   "metadata": {},
   "outputs": [
    {
     "name": "stdout",
     "output_type": "stream",
     "text": [
      "tensor([[[ 1.5900, -0.2048,  1.4300],\n",
      "         [-0.2498,  3.0586,  3.7770],\n",
      "         [-0.6684,  3.3708,  5.8614]],\n",
      "\n",
      "        [[11.6963, 16.6248,  6.2208],\n",
      "         [-2.7520, 16.6404, -0.2493],\n",
      "         [-0.0570, -3.5455, -0.2500]],\n",
      "\n",
      "        [[ 3.4558,  1.1330,  2.0457],\n",
      "         [ 0.9616,  0.5694, -0.3113],\n",
      "         [ 0.3502,  2.6659,  0.2291]],\n",
      "\n",
      "        ...,\n",
      "\n",
      "        [[ 4.6920,  4.0211,  6.4823],\n",
      "         [ 3.9899,  5.4358,  2.7810],\n",
      "         [ 3.4497,  0.7824,  3.6690]],\n",
      "\n",
      "        [[ 0.5546, -0.5012, -0.5232],\n",
      "         [-1.0774, -1.9827, -1.6974],\n",
      "         [-0.4337, -2.0954, -1.0226]],\n",
      "\n",
      "        [[-0.5217, -1.6745, -1.9092],\n",
      "         [-0.8658, -1.7318, -1.6779],\n",
      "         [-1.2985, -2.4019, -1.5029]]], grad_fn=<SelectBackward0>)\n"
     ]
    }
   ],
   "source": []
  },
  {
   "cell_type": "code",
   "execution_count": null,
   "metadata": {},
   "outputs": [],
   "source": []
  }
 ],
 "metadata": {
  "kernelspec": {
   "display_name": "Python 3",
   "language": "python",
   "name": "python3"
  },
  "language_info": {
   "codemirror_mode": {
    "name": "ipython",
    "version": 3
   },
   "file_extension": ".py",
   "mimetype": "text/x-python",
   "name": "python",
   "nbconvert_exporter": "python",
   "pygments_lexer": "ipython3",
   "version": "3.10.5"
  }
 },
 "nbformat": 4,
 "nbformat_minor": 2
}
